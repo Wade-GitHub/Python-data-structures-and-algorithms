{
 "cells": [
  {
   "cell_type": "markdown",
   "metadata": {},
   "source": [
    "# Find the missing element\n",
    "\n",
    "## Problem\n",
    "\n",
    "Consider an array of non-negative integers. A second array is formed by shuffling the elements of the first array and deleting a random element. Given these two arrays, find which element is missing in the second array.\n",
    "\n",
    "Example input, first array is shuffled and number 5 is removed for second array:\n",
    "\n",
    "Input:\n",
    "\n",
    "    finder([1, 2, 3, 4, 5, 6, 7], [3, 7, 2, 1, 4, 6])\n",
    "\n",
    "Output:\n",
    "\n",
    "    5 is the missing number"
   ]
  },
  {
   "cell_type": "markdown",
   "metadata": {},
   "source": [
    "## Solution\n",
    "\n",
    "This is first attempt, using a hash table:"
   ]
  },
  {
   "cell_type": "code",
   "execution_count": 13,
   "metadata": {},
   "outputs": [],
   "source": [
    "def finder(array1, array2):\n",
    "    \n",
    "    num_dict = dict()\n",
    "    \n",
    "    for num in array1:\n",
    "        if num not in num_dict:\n",
    "            num_dict[num] = 1\n",
    "        else:\n",
    "            num_dict[num] += 1\n",
    "    \n",
    "    for num in array2:\n",
    "        if num in num_dict:\n",
    "            num_dict[num] -= 1\n",
    "    \n",
    "    for num in num_dict:\n",
    "        if num_dict[num] != 0:\n",
    "            return num"
   ]
  },
  {
   "cell_type": "code",
   "execution_count": 14,
   "metadata": {},
   "outputs": [
    {
     "data": {
      "text/plain": [
       "5"
      ]
     },
     "execution_count": 14,
     "metadata": {},
     "output_type": "execute_result"
    }
   ],
   "source": [
    "arr1 = [1, 2, 3, 4, 5, 6, 7]\n",
    "arr2 = [3, 7, 2, 1, 4, 6]\n",
    "finder(arr1, arr2)"
   ]
  },
  {
   "cell_type": "code",
   "execution_count": 15,
   "metadata": {},
   "outputs": [
    {
     "data": {
      "text/plain": [
       "5"
      ]
     },
     "execution_count": 15,
     "metadata": {},
     "output_type": "execute_result"
    }
   ],
   "source": [
    "arr1 = [5, 5, 7, 7]\n",
    "arr2 = [5, 7, 7]\n",
    "\n",
    "finder(arr1, arr2)"
   ]
  },
  {
   "cell_type": "markdown",
   "metadata": {},
   "source": [
    "# Tests"
   ]
  },
  {
   "cell_type": "code",
   "execution_count": 16,
   "metadata": {},
   "outputs": [
    {
     "name": "stdout",
     "output_type": "stream",
     "text": [
      "ALL TEST CASES PASSED\n"
     ]
    }
   ],
   "source": [
    "from nose.tools import assert_equal\n",
    "\n",
    "class TestFinder:\n",
    "    \n",
    "    def test(self, solution):\n",
    "        assert_equal(solution([5, 5, 7, 7], [5, 7, 7]), 5)\n",
    "        assert_equal(solution([1, 2, 3, 4, 5, 6, 7], [3, 7, 2, 1, 4, 6]), 5)\n",
    "        assert_equal(solution([9, 8, 7, 6, 5, 4, 3, 2, 1], [9, 8, 7, 5, 4, 3, 2, 1]), 6)\n",
    "        print(\"ALL TEST CASES PASSED\")\n",
    "\n",
    "# Run test\n",
    "test = TestFinder()\n",
    "test.test(finder)"
   ]
  },
  {
   "cell_type": "code",
   "execution_count": null,
   "metadata": {},
   "outputs": [],
   "source": []
  }
 ],
 "metadata": {
  "kernelspec": {
   "display_name": "Python 3",
   "language": "python",
   "name": "python3"
  },
  "language_info": {
   "codemirror_mode": {
    "name": "ipython",
    "version": 3
   },
   "file_extension": ".py",
   "mimetype": "text/x-python",
   "name": "python",
   "nbconvert_exporter": "python",
   "pygments_lexer": "ipython3",
   "version": "3.7.3"
  }
 },
 "nbformat": 4,
 "nbformat_minor": 2
}

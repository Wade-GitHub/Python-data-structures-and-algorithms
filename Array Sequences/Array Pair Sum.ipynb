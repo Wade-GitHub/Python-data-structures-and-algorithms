{
 "cells": [
  {
   "cell_type": "markdown",
   "metadata": {},
   "source": [
    "# Array Pair Sum\n",
    "\n",
    "## Problem\n",
    "\n",
    "Given an integer array, output all the *unique* pairs that sum up a specific value **k**.\n",
    "\n",
    "Input:\n",
    "\n",
    "    pair_sum([1,3,2,2], 4)\n",
    "\n",
    "would return **2** pairs:\n",
    "\n",
    "    (1, 3)\n",
    "    (2, 2)\n",
    "\n",
    "For testing purposes, the function will output the number of pairs, not the actual pairs"
   ]
  },
  {
   "cell_type": "markdown",
   "metadata": {},
   "source": [
    "## Solution\n",
    "\n",
    "This was my first attempt at the problem:"
   ]
  },
  {
   "cell_type": "code",
   "execution_count": 46,
   "metadata": {},
   "outputs": [],
   "source": [
    "def pair_sum_original(array, k):\n",
    "    \n",
    "    # Check edge case\n",
    "    # array is only 1 number\n",
    "    if len(array) < 2:\n",
    "        return\n",
    "    \n",
    "    sum_count = 0\n",
    "    unique_combinations = []\n",
    "    \n",
    "    for i, value in enumerate(array):\n",
    "        if i == len(array) - 1:\n",
    "            print(unique_combinations)\n",
    "            return sum_count\n",
    "        for j in array[i+1:]:\n",
    "            if value + j == k:\n",
    "                if value not in unique_combinations and j not in unique_combinations:\n",
    "                    unique_combinations.append(value)\n",
    "                    unique_combinations.append(j)\n",
    "                    sum_count += 1"
   ]
  },
  {
   "cell_type": "markdown",
   "metadata": {},
   "source": [
    "However, its time complexity is O(n<sup>2</sup>), so it is not very efficient.\n",
    "\n",
    "Here is what I finally arrived at after working on this problem some more:"
   ]
  },
  {
   "cell_type": "code",
   "execution_count": 59,
   "metadata": {},
   "outputs": [],
   "source": [
    "def pair_sum(array, k):\n",
    "    \n",
    "    # Check edge case\n",
    "    # array is only 1 number\n",
    "    if len(array) < 2:\n",
    "        return\n",
    "    \n",
    "    lookup_set = set()\n",
    "    pairs_set = set()\n",
    "    \n",
    "    for number in array:\n",
    "        diff = k - number\n",
    "        \n",
    "        if diff not in lookup_set:\n",
    "            lookup_set.add(number)\n",
    "        else:\n",
    "            pairs_set.add((min(diff, number), max(diff, number)))\n",
    "    \n",
    "    [print(str(pair)) for pair in pairs_set]\n",
    "    print()\n",
    "    return len(pairs_set)"
   ]
  },
  {
   "cell_type": "markdown",
   "metadata": {},
   "source": [
    "This version is better because it is now O(n) complexity."
   ]
  },
  {
   "cell_type": "code",
   "execution_count": 56,
   "metadata": {},
   "outputs": [
    {
     "name": "stdout",
     "output_type": "stream",
     "text": [
      "(1, 3)\n",
      "(2, 2)\n",
      "\n"
     ]
    },
    {
     "data": {
      "text/plain": [
       "2"
      ]
     },
     "execution_count": 56,
     "metadata": {},
     "output_type": "execute_result"
    }
   ],
   "source": [
    "pair_sum([1, 3, 2, 2, 3, 1], 4)"
   ]
  },
  {
   "cell_type": "code",
   "execution_count": 57,
   "metadata": {},
   "outputs": [
    {
     "name": "stdout",
     "output_type": "stream",
     "text": [
      "(4, 6)\n",
      "(5, 5)\n",
      "(2, 8)\n",
      "(-1, 11)\n",
      "(1, 9)\n",
      "(3, 7)\n",
      "\n",
      "(1, 2)\n",
      "\n",
      "(1, 3)\n",
      "(2, 2)\n",
      "\n",
      "ALL TEST CASES PASSED\n"
     ]
    }
   ],
   "source": [
    "from nose.tools import assert_equal\n",
    "\n",
    "class TestPair(object):\n",
    "    \n",
    "    def test(self,sol):\n",
    "        assert_equal(sol([1,9,2,8,3,7,4,6,5,5,13,14,11,13,-1],10),6)\n",
    "        assert_equal(sol([1,2,3,1],3),1)\n",
    "        assert_equal(sol([1,3,2,2],4),2)\n",
    "        print('ALL TEST CASES PASSED')\n",
    "        \n",
    "#Run tests\n",
    "t = TestPair()\n",
    "t.test(pair_sum)"
   ]
  },
  {
   "cell_type": "code",
   "execution_count": 58,
   "metadata": {},
   "outputs": [
    {
     "name": "stdout",
     "output_type": "stream",
     "text": [
      "(4, 6)\n",
      "(5, 5)\n",
      "(2, 8)\n",
      "(-1, 11)\n",
      "(1, 9)\n",
      "(3, 7)\n",
      "\n"
     ]
    },
    {
     "data": {
      "text/plain": [
       "6"
      ]
     },
     "execution_count": 58,
     "metadata": {},
     "output_type": "execute_result"
    }
   ],
   "source": [
    "pair_sum([1,9,2,8,3,7,4,6,5,5,13,14,11,13,-1],10)"
   ]
  },
  {
   "cell_type": "code",
   "execution_count": null,
   "metadata": {},
   "outputs": [],
   "source": []
  }
 ],
 "metadata": {
  "kernelspec": {
   "display_name": "Python 3",
   "language": "python",
   "name": "python3"
  },
  "language_info": {
   "codemirror_mode": {
    "name": "ipython",
    "version": 3
   },
   "file_extension": ".py",
   "mimetype": "text/x-python",
   "name": "python",
   "nbconvert_exporter": "python",
   "pygments_lexer": "ipython3",
   "version": "3.7.3"
  }
 },
 "nbformat": 4,
 "nbformat_minor": 2
}

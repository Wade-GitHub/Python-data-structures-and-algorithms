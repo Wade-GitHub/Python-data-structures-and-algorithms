{
 "cells": [
  {
   "cell_type": "markdown",
   "metadata": {},
   "source": [
    "# Anagram Check\n",
    "\n",
    "## Problem\n",
    "\n",
    "Given two strings, check to see if they are anagrams. An anagram is when the two strings can be written using the exact same letters (rearranging the letters gives a different word or phrase).\n",
    "\n",
    "Example:\n",
    "\n",
    "    \"public relations\" is an anagram of \"crap built on lies.\"\n",
    "    \n",
    "    \"clint eastwood\" is an anagram \"old west action.\"\n",
    "\n",
    "**Note: This example ignores spaces and capitalization.\n",
    "        \"d go\" is an anagram of \"God\" and \"dog\" and \"o d g\".**"
   ]
  },
  {
   "cell_type": "markdown",
   "metadata": {},
   "source": [
    "## Solution\n",
    "This is my solution:"
   ]
  },
  {
   "cell_type": "code",
   "execution_count": 54,
   "metadata": {},
   "outputs": [],
   "source": [
    "def anagram(string1, string2):\n",
    "    \n",
    "    # Clean strings to remove spaces and capital letters\n",
    "    string1 = string1.replace(' ', '').lower()\n",
    "    string2 = string2.replace(' ', '').lower()\n",
    "    \n",
    "    # If the strings don't have the same number\n",
    "    # of letters, they are not anagrams.\n",
    "    if len(string1) != len(string2):\n",
    "        return False\n",
    "    \n",
    "    # Dict to hold count of each letter.\n",
    "    letters_count = {}\n",
    "    \n",
    "    # Iterate through string1 and get the letters.\n",
    "    for letter in string1:\n",
    "        # If we can find the letter in the dict, increment\n",
    "        # the count of that letter.\n",
    "        if letter in letters_count:\n",
    "            letters_count[letter] += 1\n",
    "        # Else, add a new count entry for that letter\n",
    "        # to the dict.\n",
    "        else:\n",
    "            letters_count[letter] = 1\n",
    "    \n",
    "    # Iterate through string2 and get the letters.\n",
    "    for letter in string2:\n",
    "        # If we can find the letter in the dict, remove\n",
    "        # 1 count of that letter.\n",
    "        if letter in letters_count:\n",
    "            letters_count[letter] -= 1\n",
    "        # If we can't find the letter in the dict, it means\n",
    "        # we have found a letter that didn't exist in the\n",
    "        # first string, therefore the strings are not\n",
    "        # anagrams, so return False.\n",
    "        else:\n",
    "            return False\n",
    "    \n",
    "    # Iterate through the letters_count dict.\n",
    "    for letter in letters_count:\n",
    "        # If the 2 strings were anagrams, then the count\n",
    "        # for each letter in the dict should be 0, since\n",
    "        # we 1 count for each count we added. If any count\n",
    "        # is greater than or less than 0, it means there was\n",
    "        # an extra letter, so strings are not anagrams, so\n",
    "        # return False.\n",
    "        if letters_count[letter] != 0:\n",
    "            return False\n",
    "    \n",
    "    # If none of the \"return False\" statements were triggered,\n",
    "    # it means we must have an anagram, so return True\n",
    "    return True"
   ]
  },
  {
   "cell_type": "code",
   "execution_count": 55,
   "metadata": {},
   "outputs": [
    {
     "data": {
      "text/plain": [
       "True"
      ]
     },
     "execution_count": 55,
     "metadata": {},
     "output_type": "execute_result"
    }
   ],
   "source": [
    "anagram('dog', 'god')"
   ]
  },
  {
   "cell_type": "code",
   "execution_count": 56,
   "metadata": {},
   "outputs": [
    {
     "data": {
      "text/plain": [
       "True"
      ]
     },
     "execution_count": 56,
     "metadata": {},
     "output_type": "execute_result"
    }
   ],
   "source": [
    "anagram('clint eastwood', 'old west action')"
   ]
  },
  {
   "cell_type": "code",
   "execution_count": 57,
   "metadata": {},
   "outputs": [
    {
     "data": {
      "text/plain": [
       "False"
      ]
     },
     "execution_count": 57,
     "metadata": {},
     "output_type": "execute_result"
    }
   ],
   "source": [
    "anagram('aa', 'bb')"
   ]
  },
  {
   "cell_type": "code",
   "execution_count": 58,
   "metadata": {},
   "outputs": [
    {
     "data": {
      "text/plain": [
       "True"
      ]
     },
     "execution_count": 58,
     "metadata": {},
     "output_type": "execute_result"
    }
   ],
   "source": [
    "anagram('public relations', 'crap built on lies')"
   ]
  },
  {
   "cell_type": "code",
   "execution_count": 59,
   "metadata": {},
   "outputs": [
    {
     "data": {
      "text/plain": [
       "False"
      ]
     },
     "execution_count": 59,
     "metadata": {},
     "output_type": "execute_result"
    }
   ],
   "source": [
    "anagram('Hello World', 'Goodbye World')"
   ]
  },
  {
   "cell_type": "markdown",
   "metadata": {},
   "source": [
    "## Running tests\n",
    "Using testing tools to check the solution works as expected"
   ]
  },
  {
   "cell_type": "code",
   "execution_count": 60,
   "metadata": {},
   "outputs": [
    {
     "name": "stdout",
     "output_type": "stream",
     "text": [
      "ALL TEST CASES PASSED\n"
     ]
    }
   ],
   "source": [
    "from nose.tools import assert_equal\n",
    "\n",
    "class AnagramTest:\n",
    "    \n",
    "    def test(self, solution):\n",
    "        assert_equal(solution('go go go', 'gggooo'), True)\n",
    "        assert_equal(solution('abc', 'cba'), True)\n",
    "        assert_equal(solution('hi man', 'hi     man'), True)\n",
    "        assert_equal(solution('aabbcc', 'aabbc'), False)\n",
    "        assert_equal(solution('123', '1 2'), False)\n",
    "        assert_equal(solution('clint eastwood', 'old west action'), True)\n",
    "        assert_equal(solution('public relations', 'crap built on lies'), True)\n",
    "        print(\"ALL TEST CASES PASSED\")\n",
    "\n",
    "# Run tests\n",
    "test_case = AnagramTest()\n",
    "test_case.test(anagram)\n",
    "\n",
    "# Note that if one of these tests is incorrect, an AssertionError\n",
    "# will be raised"
   ]
  },
  {
   "cell_type": "markdown",
   "metadata": {},
   "source": [
    "Note that the solution to this problem could have been simply solved in Python by doing this:"
   ]
  },
  {
   "cell_type": "code",
   "execution_count": 61,
   "metadata": {},
   "outputs": [],
   "source": [
    "def anagram2(string1, string2):\n",
    "    # Clean strings to remove spaces and capitals\n",
    "    string1 = string1.replace(' ', '').lower()\n",
    "    string2 = string2.replace(' ', '').lower()\n",
    "    \n",
    "    # Return boolean comparison for sorted strings.\n",
    "    # If strings match each other, they are anagrams\n",
    "    return sorted(string1) == sorted(string2)"
   ]
  },
  {
   "cell_type": "code",
   "execution_count": 62,
   "metadata": {},
   "outputs": [
    {
     "data": {
      "text/plain": [
       "True"
      ]
     },
     "execution_count": 62,
     "metadata": {},
     "output_type": "execute_result"
    }
   ],
   "source": [
    "anagram2('dog', 'god')"
   ]
  },
  {
   "cell_type": "code",
   "execution_count": 63,
   "metadata": {},
   "outputs": [
    {
     "data": {
      "text/plain": [
       "False"
      ]
     },
     "execution_count": 63,
     "metadata": {},
     "output_type": "execute_result"
    }
   ],
   "source": [
    "anagram2('Hello world', 'goodbye world')"
   ]
  },
  {
   "cell_type": "markdown",
   "metadata": {},
   "source": [
    "However, this solution is more of a programming language solution rather than an algorithmic solution. Manually working through this method with pen and paper would be extremely inefficient, since doing the sorted() part manually at the end would be slow for long strings.\n",
    "\n",
    "The previous solution makes use of a hash table (or \"dictionary\" in Python), which makes it a little easier to work through manually."
   ]
  }
 ],
 "metadata": {
  "kernelspec": {
   "display_name": "Python 3",
   "language": "python",
   "name": "python3"
  },
  "language_info": {
   "codemirror_mode": {
    "name": "ipython",
    "version": 3
   },
   "file_extension": ".py",
   "mimetype": "text/x-python",
   "name": "python",
   "nbconvert_exporter": "python",
   "pygments_lexer": "ipython3",
   "version": "3.7.3"
  }
 },
 "nbformat": 4,
 "nbformat_minor": 2
}

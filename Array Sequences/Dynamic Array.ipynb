{
 "cells": [
  {
   "cell_type": "markdown",
   "metadata": {},
   "source": [
    "# Dynamic Array\n",
    "\n",
    "In python we don't need to specify the size of a list when creating it. This is because the list object adjusts its size as items are added to the list. This can be shown with a simple script:"
   ]
  },
  {
   "cell_type": "code",
   "execution_count": 12,
   "metadata": {},
   "outputs": [
    {
     "name": "stdout",
     "output_type": "stream",
     "text": [
      "List length: 0; Size in bytes: 64\n",
      "List length: 1; Size in bytes: 96\n",
      "List length: 2; Size in bytes: 96\n",
      "List length: 3; Size in bytes: 96\n",
      "List length: 4; Size in bytes: 96\n",
      "List length: 5; Size in bytes: 128\n",
      "List length: 6; Size in bytes: 128\n",
      "List length: 7; Size in bytes: 128\n",
      "List length: 8; Size in bytes: 128\n",
      "List length: 9; Size in bytes: 192\n"
     ]
    }
   ],
   "source": [
    "import sys\n",
    "\n",
    "def list_grow(n):\n",
    "    # Create empty list\n",
    "    my_list = []\n",
    "\n",
    "    # Loop through 0-n\n",
    "    for i in range(n):\n",
    "        # Get number of items in the list\n",
    "        list_length = len(my_list)\n",
    "\n",
    "        # Get the size of the list in bytes\n",
    "        bytes_size = sys.getsizeof(my_list)\n",
    "\n",
    "        # Print length and size\n",
    "        print(f\"List length: {list_length}; Size in bytes: {bytes_size}\")\n",
    "\n",
    "        # Append arbitrary item to the list\n",
    "        my_list.append(i)\n",
    "\n",
    "list_grow(10)"
   ]
  },
  {
   "cell_type": "markdown",
   "metadata": {},
   "source": [
    "As we can see, when the number of items in the list grows, the total size of the list also grows:\n",
    "- 0 items (empty list) = 64B\n",
    "- 1-4 items = 96B\n",
    "- 5-8 items = 128B\n",
    "- 9 items = 192B\n",
    "\n",
    "It will grow larger as more items are added:"
   ]
  },
  {
   "cell_type": "code",
   "execution_count": 13,
   "metadata": {},
   "outputs": [
    {
     "name": "stdout",
     "output_type": "stream",
     "text": [
      "List length: 0; Size in bytes: 64\n",
      "List length: 1; Size in bytes: 96\n",
      "List length: 2; Size in bytes: 96\n",
      "List length: 3; Size in bytes: 96\n",
      "List length: 4; Size in bytes: 96\n",
      "List length: 5; Size in bytes: 128\n",
      "List length: 6; Size in bytes: 128\n",
      "List length: 7; Size in bytes: 128\n",
      "List length: 8; Size in bytes: 128\n",
      "List length: 9; Size in bytes: 192\n",
      "List length: 10; Size in bytes: 192\n",
      "List length: 11; Size in bytes: 192\n",
      "List length: 12; Size in bytes: 192\n",
      "List length: 13; Size in bytes: 192\n",
      "List length: 14; Size in bytes: 192\n",
      "List length: 15; Size in bytes: 192\n",
      "List length: 16; Size in bytes: 192\n",
      "List length: 17; Size in bytes: 264\n",
      "List length: 18; Size in bytes: 264\n",
      "List length: 19; Size in bytes: 264\n",
      "List length: 20; Size in bytes: 264\n",
      "List length: 21; Size in bytes: 264\n",
      "List length: 22; Size in bytes: 264\n",
      "List length: 23; Size in bytes: 264\n",
      "List length: 24; Size in bytes: 264\n",
      "List length: 25; Size in bytes: 264\n",
      "List length: 26; Size in bytes: 344\n",
      "List length: 27; Size in bytes: 344\n",
      "List length: 28; Size in bytes: 344\n",
      "List length: 29; Size in bytes: 344\n"
     ]
    }
   ],
   "source": [
    "list_grow(30)"
   ]
  },
  {
   "cell_type": "markdown",
   "metadata": {},
   "source": [
    "Now, continuing on from the last pattern:\n",
    "- 9-16 items = 192B\n",
    "- 17-25 items = 264B\n",
    "- 26-29 items = 344B\n",
    "\n",
    "Python will always leave more room than is actually used in a list so that more items can be appended. When the size of the number of items gets to the point that it almost fills up the list, python will expand the size of the list again to allow more items to be added.\n",
    "\n",
    "Python has a very optimized implementation of a dynamic array, but we can still code out our own custom dynamic array for the sake of showing how a dynamic array works!"
   ]
  },
  {
   "cell_type": "markdown",
   "metadata": {},
   "source": [
    "The trick to the dynamic array is by how we implement a way to expand the size of the array.\n",
    "\n",
    "Normally, arrays in statically-typed languages like C, C++, Java etc. are fixed size and cannot be changed. In Java I understand that we can get around the limitations of an array by using Collections like ArrayList and LinkedList, but in Python we'll do it differently."
   ]
  },
  {
   "cell_type": "markdown",
   "metadata": {},
   "source": [
    "With our dynamic array, when we try to append an item when the array is full, we'll:\n",
    "1. Create a new array with double the size of the current array.\n",
    "2. Go through the current array and append all current items to their same position in the new array.\n",
    "3. Make the new bigger array become the current array (old smaller array is discarded to garbage collection when dereferenced.\n",
    "4. Append the new item to the new array we just created.\n",
    "\n",
    "The process will look like this:\n",
    "\n",
    "**Current array**<br>\n",
    "my_array = | 1 | 2 | 3 | 4 |\n",
    "\n",
    "**Append new item (however, array is full)**<br>\n",
    "`my_array.append(5)`<br>\n",
    "| 1 | 2 | 3 | 4 |\n",
    "\n",
    "**Make new, bigger array at double size of current array**\n",
    "\n",
    "**Old array:**<br>\n",
    "my_array = | 1 | 2 | 3 | 4 |\n",
    "\n",
    "**New array:**<br>\n",
    "my_new_array = | 1 | 2 | 3 | 4 |  |  |  |  |\n",
    "\n",
    "**Assign `my_array` to `my_new_array`**<br>\n",
    "my_array = my_new_array\n",
    "\n",
    "**Append item to array (which is now bigger)**<br>\n",
    "my_array.append(5)<br>\n",
    "| 1 | 2 | 3 | 4 | 5 |  |  |  |"
   ]
  },
  {
   "cell_type": "markdown",
   "metadata": {},
   "source": [
    "## Dynamic Array Implementation\n",
    "Here is the implementation of my dynamic array"
   ]
  },
  {
   "cell_type": "code",
   "execution_count": 71,
   "metadata": {},
   "outputs": [],
   "source": [
    "import ctypes\n",
    "\n",
    "\n",
    "class DynamicArray():\n",
    "    \n",
    "    def __init__(self):\n",
    "        self.num_of_elements = 0\n",
    "        self.max_capacity = 1\n",
    "        self.current_array = self.make_array(self.max_capacity)\n",
    "        \n",
    "    def __len__(self):\n",
    "        return self.num_of_elements\n",
    "    \n",
    "    def __getitem__(self, index):\n",
    "        if not 0 <= index <= self.num_of_elements:\n",
    "            return IndexError('index is out of bounds!')\n",
    "        return self.current_array[index]\n",
    "    \n",
    "    def append(self, item):\n",
    "        if self.num_of_elements == self.max_capacity:\n",
    "            self._resize(2 * self.max_capacity)\n",
    "        \n",
    "        self.current_array[self.num_of_elements] = item\n",
    "        self.num_of_elements += 1\n",
    "    \n",
    "    def _resize(self, new_max_capacity):\n",
    "        new_array = self.make_array(new_max_capacity)\n",
    "        for i in range(self.num_of_elements):\n",
    "            new_array[i] = self.current_array[i]\n",
    "        \n",
    "        self.current_array = new_array\n",
    "        self.max_capacity = new_max_capacity\n",
    "    \n",
    "    def make_array(self, new_max_capacity):\n",
    "        return (new_max_capacity * ctypes.py_object)()"
   ]
  }
 ],
 "metadata": {
  "kernelspec": {
   "display_name": "Python 3",
   "language": "python",
   "name": "python3"
  },
  "language_info": {
   "codemirror_mode": {
    "name": "ipython",
    "version": 3
   },
   "file_extension": ".py",
   "mimetype": "text/x-python",
   "name": "python",
   "nbconvert_exporter": "python",
   "pygments_lexer": "ipython3",
   "version": "3.7.3"
  }
 },
 "nbformat": 4,
 "nbformat_minor": 2
}
